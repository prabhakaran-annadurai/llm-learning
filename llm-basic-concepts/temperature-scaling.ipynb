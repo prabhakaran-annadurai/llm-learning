{
 "cells": [
  {
   "cell_type": "markdown",
   "id": "7863ff17",
   "metadata": {},
   "source": [
    "### Temperature scaling"
   ]
  },
  {
   "cell_type": "markdown",
   "id": "18b078aa",
   "metadata": {},
   "source": [
    "\n",
    "\n",
    "## 1. Sampling\n",
    "\n",
    "A text generation model provides probability values for next word from possible vocabulary. For example \n",
    "\n",
    "|**|**|\n",
    "|---|---|\n",
    "|given sentence  | Every effort moves you ____|\n",
    "|vocabs          |[\"closer\", \"forward\", \"toward\"]|\n",
    "|model_output    | [1.2, 6.5, 3.1]|\n",
    "|softmax_prob    | [0.0744, 0.7425, 0.1831]|\n",
    "\n",
    "Since model has predicted higher probability to forward, every time it will generate \"forward\" as the next word\n",
    "\n",
    "\n",
    "What if we need model to respect the softmax prob distribution ?\n",
    "\n",
    "Solution : **We need to sample from total vocab based on the probability**"
   ]
  },
  {
   "cell_type": "markdown",
   "id": "268d364c",
   "metadata": {},
   "source": [
    "## 2. Temperature\n",
    "\n",
    "What if we want to add/ reduce this randomnes from sampling.\n",
    "\n",
    "|Temperature|Expected result |\n",
    "|--|--|\n",
    "|1| No additional randomness (Only based on nn output)|\n",
    "|<1| Less randomness (narrows the gap)|\n",
    "|>1| More randomness (widens the gap)|"
   ]
  },
  {
   "cell_type": "code",
   "execution_count": 12,
   "id": "2c5e8b21",
   "metadata": {},
   "outputs": [],
   "source": [
    "import torch\n",
    "vocabs = {\"closer\" : 0, \"forward\" : 1, \"toward\" : 2}\n",
    "inverse_vocabs = {v:k for k,v in vocabs.items()}"
   ]
  },
  {
   "cell_type": "code",
   "execution_count": 13,
   "id": "0bc37d9d",
   "metadata": {},
   "outputs": [],
   "source": [
    "model_output = torch.tensor([2.2,4.5,3.1])\n",
    "probs = torch.softmax(model_output, dim=0)"
   ]
  },
  {
   "cell_type": "code",
   "execution_count": 19,
   "id": "618a0e0d",
   "metadata": {},
   "outputs": [
    {
     "name": "stdout",
     "output_type": "stream",
     "text": [
      "[1, 2, 1, 1, 2, 1, 2, 1, 1, 1]\n"
     ]
    }
   ],
   "source": [
    "samples = [torch.multinomial(probs, num_samples=1).item() for i in range(10)]\n",
    "print(samples)"
   ]
  },
  {
   "cell_type": "code",
   "execution_count": 23,
   "id": "da7f1272",
   "metadata": {},
   "outputs": [
    {
     "name": "stdout",
     "output_type": "stream",
     "text": [
      "tensor([2.2000, 4.5000, 3.1000])\n",
      "tensor([0.4400, 0.9000, 0.6200])\n"
     ]
    }
   ],
   "source": [
    "# To increase randomness we can divide model_output by > 1 which will reduce the gap between number\n",
    "print(model_output)\n",
    "print(model_output / 5)"
   ]
  },
  {
   "cell_type": "code",
   "execution_count": 24,
   "id": "6be756ea",
   "metadata": {},
   "outputs": [
    {
     "name": "stdout",
     "output_type": "stream",
     "text": [
      "[0, 0, 0, 2, 1, 2, 2, 0, 2, 2]\n"
     ]
    }
   ],
   "source": [
    "new_probs = torch.softmax(model_output/5, dim=0)\n",
    "samples = [torch.multinomial(new_probs, num_samples=1).item() for i in range(10)]\n",
    "print(samples)"
   ]
  },
  {
   "cell_type": "markdown",
   "id": "79bc1e2d",
   "metadata": {},
   "source": [
    "### Visualizing the effect of temperature"
   ]
  },
  {
   "cell_type": "code",
   "execution_count": 25,
   "id": "51e4a3e1",
   "metadata": {},
   "outputs": [],
   "source": [
    "def softmax_with_temperature(logits, temperature):\n",
    "    scaled_logits = logits / temperature\n",
    "    return torch.softmax(scaled_logits, dim=0)"
   ]
  },
  {
   "cell_type": "code",
   "execution_count": 26,
   "id": "c9d58d13",
   "metadata": {},
   "outputs": [
    {
     "data": {
      "image/png": "[encoded data removed]",
      "text/plain": [
       "<Figure size 500x300 with 1 Axes>"
      ]
     },
     "metadata": {},
     "output_type": "display_data"
    }
   ],
   "source": [
    "import matplotlib.pyplot as plt\n",
    "temperatures = [1, 0.1, 5]\n",
    "scaled_probas = [softmax_with_temperature(model_output, T) for T in temperatures]\n",
    "\n",
    "x =torch.arange(len(vocabs))\n",
    "bar_width = 0.15\n",
    "fig, ax = plt.subplots(figsize=(5,3))\n",
    "for i, T in enumerate(temperatures):\n",
    "    rects = ax.bar(x+i *bar_width, scaled_probas[i], bar_width, label = f\"Temperature={T}\" )\n",
    "ax.legend()\n",
    "plt.show()"
   ]
  }
 ],
 "metadata": {
  "kernelspec": {
   "display_name": "Python 3",
   "language": "python",
   "name": "python3"
  },
  "language_info": {
   "codemirror_mode": {
    "name": "ipython",
    "version": 3
   },
   "file_extension": ".py",
   "mimetype": "text/x-python",
   "name": "python",
   "nbconvert_exporter": "python",
   "pygments_lexer": "ipython3",
   "version": "3.10.12"
  }
 },
 "nbformat": 4,
 "nbformat_minor": 5
}
