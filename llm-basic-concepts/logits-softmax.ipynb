{
 "cells": [
  {
   "cell_type": "markdown",
   "id": "b88b9486",
   "metadata": {},
   "source": [
    "## Logits"
   ]
  },
  {
   "cell_type": "markdown",
   "id": "f9eb0cc2",
   "metadata": {},
   "source": [
    "**Odds**: \n",
    "\n",
    "Odds of an event happening vs not happening\n",
    "\n",
    "E.g. if probability of an event happens = 90%, we can say odds of it happening is 9 to 1\n",
    "\n",
    "**log-odds** : \n",
    "\n",
    "logarithm of odds = ln (p / (1-p)), It maps probability of [0,1] to [real numbers].\n",
    "\n",
    "E.g. ln (0.9/0.1) = 2.19,  [0.9, 0.1] => [2.9, -2.9]\n",
    "\n",
    "**Sigmoid** : \n",
    "\n",
    "It maps real numbers to  [0,1] using formula 1/(1+e^-x)\n",
    "\n",
    "E.g. [2.19, -2.19] => [0.9,0.1]\n",
    "\n",
    "\n",
    "**Since the neural network layers output is real number and we want to convert them into probabilities, we assume that they are logits and apply Sigmoid or Softmax to get the probabilities**"
   ]
  },
  {
   "cell_type": "markdown",
   "id": "524d9765",
   "metadata": {},
   "source": [
    "## Softmax"
   ]
  },
  {
   "cell_type": "markdown",
   "id": "2ddccc3b",
   "metadata": {},
   "source": [
    "1. Converts logits vectors into probabilities\n",
    "\n",
    "2. Larger values become more dominant\n",
    "\n",
    "3. If we apply multiple times, it becomes flattened (not recommended)"
   ]
  },
  {
   "cell_type": "markdown",
   "id": "e0d3cc66",
   "metadata": {},
   "source": [
    "## Formula used\n",
    "\n",
    "raw_vectors = [a,b,c]\n",
    "softmax(a) = e^a / (e^a + e^b + e^c)"
   ]
  },
  {
   "cell_type": "markdown",
   "id": "ed2c168d",
   "metadata": {},
   "source": []
  }
 ],
 "metadata": {
  "language_info": {
   "name": "python"
  }
 },
 "nbformat": 4,
 "nbformat_minor": 5
}
