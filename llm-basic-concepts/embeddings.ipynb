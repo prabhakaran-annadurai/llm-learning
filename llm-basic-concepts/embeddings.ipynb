{
 "cells": [
  {
   "cell_type": "markdown",
   "id": "371f281d",
   "metadata": {},
   "source": [
    "## Token Embeddings"
   ]
  },
  {
   "cell_type": "markdown",
   "id": "d1517a97",
   "metadata": {},
   "source": [
    "### Basics:\n",
    "\n",
    "1. Words -> Tokens -> TokenIDs --> Embeddings\n",
    "\n",
    "2. Embeds tokenids into higher dimension vector space\n",
    "\n",
    "3. Embedding layer also trained using backpropagation"
   ]
  },
  {
   "cell_type": "code",
   "execution_count": 1,
   "id": "5f0a5382",
   "metadata": {},
   "outputs": [],
   "source": [
    "import torch\n",
    "vocab_size = 50257\n",
    "embed_dim = 12288\n",
    "embedding_layer = torch.nn.Embedding(vocab_size, embed_dim)"
   ]
  },
  {
   "cell_type": "code",
   "execution_count": 4,
   "id": "70827450",
   "metadata": {},
   "outputs": [
    {
     "data": {
      "text/plain": [
       "torch.Size([50257, 12288])"
      ]
     },
     "execution_count": 4,
     "metadata": {},
     "output_type": "execute_result"
    }
   ],
   "source": [
    "embedding_layer.weight.shape"
   ]
  }
 ],
 "metadata": {
  "kernelspec": {
   "display_name": "Python 3",
   "language": "python",
   "name": "python3"
  },
  "language_info": {
   "codemirror_mode": {
    "name": "ipython",
    "version": 3
   },
   "file_extension": ".py",
   "mimetype": "text/x-python",
   "name": "python",
   "nbconvert_exporter": "python",
   "pygments_lexer": "ipython3",
   "version": "3.10.12"
  }
 },
 "nbformat": 4,
 "nbformat_minor": 5
}
